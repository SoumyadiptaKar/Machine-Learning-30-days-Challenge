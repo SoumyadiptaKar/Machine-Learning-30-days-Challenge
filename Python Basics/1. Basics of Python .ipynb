{
 "cells": [
  {
   "cell_type": "markdown",
   "id": "62629c3f",
   "metadata": {},
   "source": [
    "# Python Tutorial\n",
    "1. Various Datatypes in python\n",
    "2. Variable assignment\n",
    "3. Print formating\n",
    "4. Declaration of list, set, tuple"
   ]
  },
  {
   "cell_type": "markdown",
   "id": "a7eafc2b",
   "metadata": {},
   "source": [
    "### Arithmetic Operations"
   ]
  },
  {
   "cell_type": "code",
   "execution_count": 1,
   "id": "b8a69713",
   "metadata": {},
   "outputs": [
    {
     "data": {
      "text/plain": [
       "20"
      ]
     },
     "execution_count": 1,
     "metadata": {},
     "output_type": "execute_result"
    }
   ],
   "source": [
    "4*5"
   ]
  },
  {
   "cell_type": "code",
   "execution_count": 2,
   "id": "03e9ba8e",
   "metadata": {},
   "outputs": [
    {
     "data": {
      "text/plain": [
       "20"
      ]
     },
     "execution_count": 2,
     "metadata": {},
     "output_type": "execute_result"
    }
   ],
   "source": [
    "2*10"
   ]
  },
  {
   "cell_type": "code",
   "execution_count": 3,
   "id": "83fee661",
   "metadata": {},
   "outputs": [
    {
     "data": {
      "text/plain": [
       "7.5"
      ]
     },
     "execution_count": 3,
     "metadata": {},
     "output_type": "execute_result"
    }
   ],
   "source": [
    "15/2"
   ]
  },
  {
   "cell_type": "code",
   "execution_count": 4,
   "id": "814e76e4",
   "metadata": {},
   "outputs": [
    {
     "data": {
      "text/plain": [
       "7"
      ]
     },
     "execution_count": 4,
     "metadata": {},
     "output_type": "execute_result"
    }
   ],
   "source": [
    "15//2"
   ]
  },
  {
   "cell_type": "code",
   "execution_count": 5,
   "id": "af9a7ac2",
   "metadata": {},
   "outputs": [
    {
     "data": {
      "text/plain": [
       "1"
      ]
     },
     "execution_count": 5,
     "metadata": {},
     "output_type": "execute_result"
    }
   ],
   "source": [
    "15%2"
   ]
  },
  {
   "cell_type": "code",
   "execution_count": 6,
   "id": "5a98dee6",
   "metadata": {},
   "outputs": [
    {
     "data": {
      "text/plain": [
       "8"
      ]
     },
     "execution_count": 6,
     "metadata": {},
     "output_type": "execute_result"
    }
   ],
   "source": [
    "2**3"
   ]
  },
  {
   "cell_type": "markdown",
   "id": "8e077dbc",
   "metadata": {},
   "source": [
    "### Datatypes"
   ]
  },
  {
   "cell_type": "code",
   "execution_count": 7,
   "id": "ee977e4c",
   "metadata": {},
   "outputs": [
    {
     "data": {
      "text/plain": [
       "int"
      ]
     },
     "execution_count": 7,
     "metadata": {},
     "output_type": "execute_result"
    }
   ],
   "source": [
    "type(1)"
   ]
  },
  {
   "cell_type": "code",
   "execution_count": 8,
   "id": "3dc872be",
   "metadata": {},
   "outputs": [
    {
     "data": {
      "text/plain": [
       "float"
      ]
     },
     "execution_count": 8,
     "metadata": {},
     "output_type": "execute_result"
    }
   ],
   "source": [
    "type(1.1)"
   ]
  },
  {
   "cell_type": "code",
   "execution_count": 9,
   "id": "1b88c2aa",
   "metadata": {},
   "outputs": [
    {
     "data": {
      "text/plain": [
       "bool"
      ]
     },
     "execution_count": 9,
     "metadata": {},
     "output_type": "execute_result"
    }
   ],
   "source": [
    "type(True)"
   ]
  },
  {
   "cell_type": "code",
   "execution_count": 10,
   "id": "a0364361",
   "metadata": {},
   "outputs": [
    {
     "data": {
      "text/plain": [
       "str"
      ]
     },
     "execution_count": 10,
     "metadata": {},
     "output_type": "execute_result"
    }
   ],
   "source": [
    "type(\"Hello World!\")"
   ]
  },
  {
   "cell_type": "markdown",
   "id": "d3bc3b85",
   "metadata": {},
   "source": [
    "### Strings"
   ]
  },
  {
   "cell_type": "code",
   "execution_count": 11,
   "id": "25889b62",
   "metadata": {},
   "outputs": [
    {
     "data": {
      "text/plain": [
       "'Hello'"
      ]
     },
     "execution_count": 11,
     "metadata": {},
     "output_type": "execute_result"
    }
   ],
   "source": [
    "\"Hello\""
   ]
  },
  {
   "cell_type": "code",
   "execution_count": 12,
   "id": "3f3c3dbc",
   "metadata": {},
   "outputs": [
    {
     "data": {
      "text/plain": [
       "'Soumyadipta Kar'"
      ]
     },
     "execution_count": 12,
     "metadata": {},
     "output_type": "execute_result"
    }
   ],
   "source": [
    "\"Soumyadipta Kar\""
   ]
  },
  {
   "cell_type": "code",
   "execution_count": 13,
   "id": "44f1a6b5",
   "metadata": {},
   "outputs": [
    {
     "data": {
      "text/plain": [
       "'My name is \"Soumyadipta Kar\"'"
      ]
     },
     "execution_count": 13,
     "metadata": {},
     "output_type": "execute_result"
    }
   ],
   "source": [
    "'My name is \"Soumyadipta Kar\"'"
   ]
  },
  {
   "cell_type": "code",
   "execution_count": 14,
   "id": "bf8fe2db",
   "metadata": {},
   "outputs": [
    {
     "data": {
      "text/plain": [
       "\"My name is 'Soumyadipta Kar'\""
      ]
     },
     "execution_count": 14,
     "metadata": {},
     "output_type": "execute_result"
    }
   ],
   "source": [
    "\"My name is 'Soumyadipta Kar'\""
   ]
  },
  {
   "cell_type": "code",
   "execution_count": 15,
   "id": "b2b90d24",
   "metadata": {},
   "outputs": [
    {
     "data": {
      "text/plain": [
       "'My name is \"Soumyadipta Kar\" '"
      ]
     },
     "execution_count": 15,
     "metadata": {},
     "output_type": "execute_result"
    }
   ],
   "source": [
    "'''My name is \"Soumyadipta Kar\" '''"
   ]
  },
  {
   "cell_type": "markdown",
   "id": "e03ff488",
   "metadata": {},
   "source": [
    "### Variable Assingment"
   ]
  },
  {
   "cell_type": "code",
   "execution_count": 16,
   "id": "246cbb2f",
   "metadata": {},
   "outputs": [],
   "source": [
    "a=10"
   ]
  },
  {
   "cell_type": "code",
   "execution_count": 17,
   "id": "e4ad1aaa",
   "metadata": {},
   "outputs": [
    {
     "data": {
      "text/plain": [
       "int"
      ]
     },
     "execution_count": 17,
     "metadata": {},
     "output_type": "execute_result"
    }
   ],
   "source": [
    "type(a)"
   ]
  },
  {
   "cell_type": "code",
   "execution_count": 18,
   "id": "22d2fd47",
   "metadata": {},
   "outputs": [],
   "source": [
    "a=\"Apple\""
   ]
  },
  {
   "cell_type": "code",
   "execution_count": 19,
   "id": "0394d82b",
   "metadata": {},
   "outputs": [
    {
     "data": {
      "text/plain": [
       "str"
      ]
     },
     "execution_count": 19,
     "metadata": {},
     "output_type": "execute_result"
    }
   ],
   "source": [
    "type(a)"
   ]
  },
  {
   "cell_type": "code",
   "execution_count": 20,
   "id": "2b2e5079",
   "metadata": {},
   "outputs": [],
   "source": [
    "# Mathematical operations using variable assignment\n",
    "a=10\n",
    "b=20 "
   ]
  },
  {
   "cell_type": "code",
   "execution_count": 21,
   "id": "1e25a651",
   "metadata": {},
   "outputs": [
    {
     "name": "stdout",
     "output_type": "stream",
     "text": [
      "200\n",
      "0.5\n",
      "10\n",
      "200.5\n"
     ]
    }
   ],
   "source": [
    "print(a*b)\n",
    "print(a/b)\n",
    "print(a%b)\n",
    "print((a*b)+(a/b))"
   ]
  },
  {
   "cell_type": "code",
   "execution_count": 22,
   "id": "845ba32a",
   "metadata": {},
   "outputs": [],
   "source": [
    "# Various ways of printing"
   ]
  },
  {
   "cell_type": "code",
   "execution_count": 23,
   "id": "ad35c1f3",
   "metadata": {},
   "outputs": [
    {
     "name": "stdout",
     "output_type": "stream",
     "text": [
      "Hello\n"
     ]
    }
   ],
   "source": [
    "print(\"Hello\")"
   ]
  },
  {
   "cell_type": "code",
   "execution_count": 24,
   "id": "18a1f30f",
   "metadata": {},
   "outputs": [],
   "source": [
    "first_name=\"Soumyadipta\"\n",
    "last_name=\"Kar\""
   ]
  },
  {
   "cell_type": "code",
   "execution_count": 25,
   "id": "ba7daa05",
   "metadata": {},
   "outputs": [
    {
     "name": "stdout",
     "output_type": "stream",
     "text": [
      "My first name is Soumyadipta and my last name is Kar.\n"
     ]
    }
   ],
   "source": [
    "print(\"My first name is {} and my last name is {}.\".format(first_name,last_name))"
   ]
  },
  {
   "cell_type": "code",
   "execution_count": 26,
   "id": "4aa3d8a9",
   "metadata": {},
   "outputs": [
    {
     "name": "stdout",
     "output_type": "stream",
     "text": [
      "My first name is Soumyadipta and my last name is Kar.\n"
     ]
    }
   ],
   "source": [
    "print(\"My first name is {first} and my last name is {last}.\".format(last=last_name,first=first_name))"
   ]
  },
  {
   "cell_type": "code",
   "execution_count": 27,
   "id": "20f94c89",
   "metadata": {},
   "outputs": [
    {
     "data": {
      "text/plain": [
       "5"
      ]
     },
     "execution_count": 27,
     "metadata": {},
     "output_type": "execute_result"
    }
   ],
   "source": [
    "len(\"Apple\")"
   ]
  },
  {
   "cell_type": "code",
   "execution_count": 28,
   "id": "22fdacbc",
   "metadata": {},
   "outputs": [
    {
     "data": {
      "text/plain": [
       "list"
      ]
     },
     "execution_count": 28,
     "metadata": {},
     "output_type": "execute_result"
    }
   ],
   "source": [
    "type(['1',2,3,4,5])"
   ]
  },
  {
   "cell_type": "code",
   "execution_count": 29,
   "id": "502028ca",
   "metadata": {},
   "outputs": [
    {
     "data": {
      "text/plain": [
       "set"
      ]
     },
     "execution_count": 29,
     "metadata": {},
     "output_type": "execute_result"
    }
   ],
   "source": [
    "type({'1',2,3,4,5})"
   ]
  },
  {
   "cell_type": "code",
   "execution_count": 30,
   "id": "9a5b06b3",
   "metadata": {},
   "outputs": [
    {
     "data": {
      "text/plain": [
       "tuple"
      ]
     },
     "execution_count": 30,
     "metadata": {},
     "output_type": "execute_result"
    }
   ],
   "source": [
    "type(('1',2,3,4,5))"
   ]
  },
  {
   "cell_type": "code",
   "execution_count": null,
   "id": "b8caee59",
   "metadata": {},
   "outputs": [],
   "source": []
  }
 ],
 "metadata": {
  "kernelspec": {
   "display_name": "Python 3 (ipykernel)",
   "language": "python",
   "name": "python3"
  },
  "language_info": {
   "codemirror_mode": {
    "name": "ipython",
    "version": 3
   },
   "file_extension": ".py",
   "mimetype": "text/x-python",
   "name": "python",
   "nbconvert_exporter": "python",
   "pygments_lexer": "ipython3",
   "version": "3.10.1"
  }
 },
 "nbformat": 4,
 "nbformat_minor": 5
}
