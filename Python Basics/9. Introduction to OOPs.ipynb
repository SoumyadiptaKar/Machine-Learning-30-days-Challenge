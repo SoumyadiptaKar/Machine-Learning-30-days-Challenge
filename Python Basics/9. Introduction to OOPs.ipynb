{
 "cells": [
  {
   "cell_type": "markdown",
   "id": "56715ae1",
   "metadata": {},
   "source": [
    "# OPPs Concepts"
   ]
  },
  {
   "cell_type": "markdown",
   "id": "39b951dc",
   "metadata": {},
   "source": [
    "## Classes and Object\n",
    "A class is a blueprint for creating objects. \n",
    "\n",
    "It defines the properties (attributes) and behaviors (methods) that all objects of that class will have.\n",
    "\n",
    "An object, on the other hand, is an instance of a class. \n",
    "\n",
    "It is a specific realization of the class blueprint, with its own unique data (attribute values) and behavior (method executions). \n",
    "\n",
    "Objects are created based on the structure defined by the class."
   ]
  },
  {
   "cell_type": "code",
   "execution_count": 1,
   "id": "dfcc57ee",
   "metadata": {},
   "outputs": [],
   "source": [
    "class Car:\n",
    "    pass"
   ]
  },
  {
   "cell_type": "code",
   "execution_count": 2,
   "id": "12bd012e",
   "metadata": {},
   "outputs": [],
   "source": [
    "car1=Car()"
   ]
  },
  {
   "cell_type": "code",
   "execution_count": 3,
   "id": "fe758007",
   "metadata": {},
   "outputs": [
    {
     "data": {
      "text/plain": [
       "__main__.Car"
      ]
     },
     "execution_count": 3,
     "metadata": {},
     "output_type": "execute_result"
    }
   ],
   "source": [
    "type(car1)"
   ]
  },
  {
   "cell_type": "code",
   "execution_count": 4,
   "id": "b06be6e7",
   "metadata": {},
   "outputs": [],
   "source": [
    "car1.windows=5\n",
    "car1.doors=4\n",
    "car1.wheels=5"
   ]
  },
  {
   "cell_type": "code",
   "execution_count": 5,
   "id": "8c363063",
   "metadata": {},
   "outputs": [
    {
     "name": "stdout",
     "output_type": "stream",
     "text": [
      "5\n"
     ]
    }
   ],
   "source": [
    "print(car1.windows)"
   ]
  },
  {
   "cell_type": "code",
   "execution_count": 6,
   "id": "3005b7ef",
   "metadata": {},
   "outputs": [],
   "source": [
    "car2=Car()\n",
    "car2.windows=6\n",
    "car2.doors=4\n",
    "car2.wheels=5"
   ]
  },
  {
   "cell_type": "code",
   "execution_count": 7,
   "id": "e5048fcd",
   "metadata": {},
   "outputs": [
    {
     "name": "stdout",
     "output_type": "stream",
     "text": [
      "6\n"
     ]
    }
   ],
   "source": [
    "print(car2.windows)"
   ]
  },
  {
   "cell_type": "code",
   "execution_count": 8,
   "id": "15ebbcaf",
   "metadata": {},
   "outputs": [],
   "source": [
    "car2.enginetype=\"petrol\""
   ]
  },
  {
   "cell_type": "code",
   "execution_count": 9,
   "id": "d30ca8c9",
   "metadata": {},
   "outputs": [
    {
     "name": "stdout",
     "output_type": "stream",
     "text": [
      "petrol\n"
     ]
    }
   ],
   "source": [
    "print(car2.enginetype)"
   ]
  },
  {
   "cell_type": "code",
   "execution_count": 10,
   "id": "911f3c34",
   "metadata": {},
   "outputs": [
    {
     "data": {
      "text/plain": [
       "['__class__',\n",
       " '__delattr__',\n",
       " '__dict__',\n",
       " '__dir__',\n",
       " '__doc__',\n",
       " '__eq__',\n",
       " '__format__',\n",
       " '__ge__',\n",
       " '__getattribute__',\n",
       " '__gt__',\n",
       " '__hash__',\n",
       " '__init__',\n",
       " '__init_subclass__',\n",
       " '__le__',\n",
       " '__lt__',\n",
       " '__module__',\n",
       " '__ne__',\n",
       " '__new__',\n",
       " '__reduce__',\n",
       " '__reduce_ex__',\n",
       " '__repr__',\n",
       " '__setattr__',\n",
       " '__sizeof__',\n",
       " '__str__',\n",
       " '__subclasshook__',\n",
       " '__weakref__',\n",
       " 'doors',\n",
       " 'wheels',\n",
       " 'windows']"
      ]
     },
     "execution_count": 10,
     "metadata": {},
     "output_type": "execute_result"
    }
   ],
   "source": [
    "dir(car1)\n",
    "#__class__: Returns the class of an instance.\n",
    "#__delattr__: Deletes an attribute of an instance.\n",
    "#__dict__: Dictionary containing the namespace of the class or instance.\n",
    "#__dir__: Returns a list of valid attributes for an object.\n",
    "#__doc__: Documentation string of the class or instance.\n",
    "#__eq__: Defines equality comparison.\n",
    "#__format__: Defines the string representation of an object using the format() function.\n",
    "#__ge__, __gt__, __le__, __lt__: Defines comparison operators (greater than or equal to, greater than, less than or equal to, less than).\n",
    "#__hash__: Returns a hash value for the object.\n",
    "#__init__: Constructor method, initializes instance attributes.\n",
    "#__init_subclass__: Hook called during class creation for subclass customization.\n",
    "#__ne__: Defines the inequality comparison.\n",
    "#__repr__: Returns a printable representation of the object, often used for debugging.\n",
    "#__setattr__: Sets the value of an attribute of an instance.\n",
    "#__sizeof__: Returns the size of the object in memory.\n",
    "#__str__: Defines the string representation of an object, used by the str() function.\n",
    "#__subclasshook__: Hook used to customize subclass checking.\n",
    "#__weakref__: Weak reference to the object, used in memory management.\n",
    "#doors, wheels, windows: These appear to be regular attributes of the class."
   ]
  },
  {
   "cell_type": "code",
   "execution_count": 11,
   "id": "8384fde7",
   "metadata": {},
   "outputs": [],
   "source": [
    "class Car:\n",
    "    def __init__(self,window,door,enginetype):\n",
    "        self.windows=window\n",
    "        self.doors=door\n",
    "        self.enginetype=enginetype\n",
    "    def self_driving(self,enginetype):\n",
    "        return \"Tis is a {} car\".format(self.enginetype)"
   ]
  },
  {
   "cell_type": "code",
   "execution_count": 12,
   "id": "db17d6be",
   "metadata": {},
   "outputs": [],
   "source": [
    "car1=Car(4,5,'petrol')"
   ]
  },
  {
   "cell_type": "code",
   "execution_count": 13,
   "id": "7563b39a",
   "metadata": {},
   "outputs": [],
   "source": [
    "car2=Car(3,4,'diesel')"
   ]
  },
  {
   "cell_type": "code",
   "execution_count": 14,
   "id": "b441dcee",
   "metadata": {},
   "outputs": [
    {
     "name": "stdout",
     "output_type": "stream",
     "text": [
      "4\n"
     ]
    }
   ],
   "source": [
    "print(car1.windows)"
   ]
  },
  {
   "cell_type": "code",
   "execution_count": 15,
   "id": "030b6dd4",
   "metadata": {},
   "outputs": [
    {
     "name": "stdout",
     "output_type": "stream",
     "text": [
      "diesel\n"
     ]
    }
   ],
   "source": [
    "print(car2.enginetype)"
   ]
  },
  {
   "cell_type": "code",
   "execution_count": 16,
   "id": "33b72d9b",
   "metadata": {},
   "outputs": [
    {
     "data": {
      "text/plain": [
       "<bound method Car.self_driving of <__main__.Car object at 0x0000024192ABEC50>>"
      ]
     },
     "execution_count": 16,
     "metadata": {},
     "output_type": "execute_result"
    }
   ],
   "source": [
    "car1.self_driving"
   ]
  },
  {
   "cell_type": "code",
   "execution_count": 17,
   "id": "71a1de14",
   "metadata": {},
   "outputs": [
    {
     "data": {
      "text/plain": [
       "'Tis is a petrol car'"
      ]
     },
     "execution_count": 17,
     "metadata": {},
     "output_type": "execute_result"
    }
   ],
   "source": [
    "car1.self_driving(car1.enginetype)"
   ]
  },
  {
   "cell_type": "markdown",
   "id": "8a657b88",
   "metadata": {},
   "source": [
    "## Inheritance"
   ]
  },
  {
   "cell_type": "code",
   "execution_count": 18,
   "id": "9b372ce4",
   "metadata": {},
   "outputs": [],
   "source": [
    "# All class varibles are public\n",
    "# Car BluePrint \n",
    "class Car:\n",
    "    def __init__(self,window,door,enginetype):\n",
    "        self.windows=window\n",
    "        self.doors=door\n",
    "        self.enginetype=enginetype\n",
    "    def drive(self):\n",
    "        print(\"The Person drive the car\")"
   ]
  },
  {
   "cell_type": "code",
   "execution_count": 19,
   "id": "21bd35a0",
   "metadata": {},
   "outputs": [],
   "source": [
    "car = Car(4,5,\"diesel\")"
   ]
  },
  {
   "cell_type": "code",
   "execution_count": 20,
   "id": "e75c23c3",
   "metadata": {},
   "outputs": [
    {
     "data": {
      "text/plain": [
       "4"
      ]
     },
     "execution_count": 20,
     "metadata": {},
     "output_type": "execute_result"
    }
   ],
   "source": [
    "car.windows"
   ]
  },
  {
   "cell_type": "code",
   "execution_count": 21,
   "id": "8f528749",
   "metadata": {},
   "outputs": [
    {
     "data": {
      "text/plain": [
       "'diesel'"
      ]
     },
     "execution_count": 21,
     "metadata": {},
     "output_type": "execute_result"
    }
   ],
   "source": [
    "car.enginetype"
   ]
  },
  {
   "cell_type": "code",
   "execution_count": 22,
   "id": "cf7e696c",
   "metadata": {},
   "outputs": [
    {
     "name": "stdout",
     "output_type": "stream",
     "text": [
      "The Person drive the car\n"
     ]
    }
   ],
   "source": [
    "car.drive()"
   ]
  },
  {
   "cell_type": "code",
   "execution_count": 23,
   "id": "b2990392",
   "metadata": {},
   "outputs": [],
   "source": [
    "class audi(Car):# audi inherits all the properties of the Car class\n",
    "    def __init__(self,window,door,enginetype,enableai):\n",
    "        super().__init__(window,door,enginetype)\n",
    "        self.enableai=enableai\n",
    "    def selfdriving(self):\n",
    "        print(\"Audi supports self the car\")\n",
    "    "
   ]
  },
  {
   "cell_type": "code",
   "execution_count": 24,
   "id": "bd5d3d41",
   "metadata": {},
   "outputs": [],
   "source": [
    "audiQ7=audi(5,5,\"petrol\",True)"
   ]
  },
  {
   "cell_type": "code",
   "execution_count": 25,
   "id": "fda6322d",
   "metadata": {},
   "outputs": [
    {
     "data": {
      "text/plain": [
       "['__class__',\n",
       " '__delattr__',\n",
       " '__dict__',\n",
       " '__dir__',\n",
       " '__doc__',\n",
       " '__eq__',\n",
       " '__format__',\n",
       " '__ge__',\n",
       " '__getattribute__',\n",
       " '__gt__',\n",
       " '__hash__',\n",
       " '__init__',\n",
       " '__init_subclass__',\n",
       " '__le__',\n",
       " '__lt__',\n",
       " '__module__',\n",
       " '__ne__',\n",
       " '__new__',\n",
       " '__reduce__',\n",
       " '__reduce_ex__',\n",
       " '__repr__',\n",
       " '__setattr__',\n",
       " '__sizeof__',\n",
       " '__str__',\n",
       " '__subclasshook__',\n",
       " '__weakref__',\n",
       " 'doors',\n",
       " 'drive',\n",
       " 'enableai',\n",
       " 'enginetype',\n",
       " 'selfdriving',\n",
       " 'windows']"
      ]
     },
     "execution_count": 25,
     "metadata": {},
     "output_type": "execute_result"
    }
   ],
   "source": [
    "dir(audiQ7)"
   ]
  },
  {
   "cell_type": "code",
   "execution_count": 26,
   "id": "2e8de558",
   "metadata": {},
   "outputs": [
    {
     "data": {
      "text/plain": [
       "5"
      ]
     },
     "execution_count": 26,
     "metadata": {},
     "output_type": "execute_result"
    }
   ],
   "source": [
    "audiQ7.windows"
   ]
  },
  {
   "cell_type": "code",
   "execution_count": 27,
   "id": "3bf8722e",
   "metadata": {},
   "outputs": [
    {
     "name": "stdout",
     "output_type": "stream",
     "text": [
      "The Person drive the car\n"
     ]
    }
   ],
   "source": [
    "audiQ7.drive()"
   ]
  },
  {
   "cell_type": "code",
   "execution_count": 28,
   "id": "316d27d4",
   "metadata": {},
   "outputs": [
    {
     "name": "stdout",
     "output_type": "stream",
     "text": [
      "Audi supports self the car\n"
     ]
    }
   ],
   "source": [
    "audiQ7.selfdriving()"
   ]
  },
  {
   "cell_type": "code",
   "execution_count": 29,
   "id": "c4e02493",
   "metadata": {},
   "outputs": [
    {
     "data": {
      "text/plain": [
       "True"
      ]
     },
     "execution_count": 29,
     "metadata": {},
     "output_type": "execute_result"
    }
   ],
   "source": [
    "audiQ7.enableai"
   ]
  },
  {
   "cell_type": "markdown",
   "id": "2594b5a1",
   "metadata": {},
   "source": [
    "## Public Private and Protected \n",
    "\n",
    "Inheritance is a fundamental concept in object-oriented programming that allows a new class (called a subclass or derived class) to inherit properties and behaviors from an existing class (called a superclass or base class). \n",
    "\n",
    "This means that the subclass can reuse code from the superclass, reducing duplication and promoting code reusability."
   ]
  },
  {
   "cell_type": "markdown",
   "id": "0691aac9",
   "metadata": {},
   "source": [
    "### Public"
   ]
  },
  {
   "cell_type": "code",
   "execution_count": 30,
   "id": "2550c4b5",
   "metadata": {},
   "outputs": [],
   "source": [
    "class Car:\n",
    "    def __init__(self,window,door,enginetype):\n",
    "        self.windows=window #public\n",
    "        self.doors=door #public\n",
    "        self.enginetype=enginetype #public"
   ]
  },
  {
   "cell_type": "code",
   "execution_count": 31,
   "id": "ed23c5d7",
   "metadata": {},
   "outputs": [],
   "source": [
    "audi=Car(4,5,\"Diesel\")"
   ]
  },
  {
   "cell_type": "code",
   "execution_count": 32,
   "id": "9637b55e",
   "metadata": {},
   "outputs": [
    {
     "data": {
      "text/plain": [
       "<__main__.Car at 0x24192a7bdc0>"
      ]
     },
     "execution_count": 32,
     "metadata": {},
     "output_type": "execute_result"
    }
   ],
   "source": [
    "audi"
   ]
  },
  {
   "cell_type": "code",
   "execution_count": 33,
   "id": "6c67d759",
   "metadata": {},
   "outputs": [
    {
     "data": {
      "text/plain": [
       "['__class__',\n",
       " '__delattr__',\n",
       " '__dict__',\n",
       " '__dir__',\n",
       " '__doc__',\n",
       " '__eq__',\n",
       " '__format__',\n",
       " '__ge__',\n",
       " '__getattribute__',\n",
       " '__gt__',\n",
       " '__hash__',\n",
       " '__init__',\n",
       " '__init_subclass__',\n",
       " '__le__',\n",
       " '__lt__',\n",
       " '__module__',\n",
       " '__ne__',\n",
       " '__new__',\n",
       " '__reduce__',\n",
       " '__reduce_ex__',\n",
       " '__repr__',\n",
       " '__setattr__',\n",
       " '__sizeof__',\n",
       " '__str__',\n",
       " '__subclasshook__',\n",
       " '__weakref__',\n",
       " 'doors',\n",
       " 'enginetype',\n",
       " 'windows']"
      ]
     },
     "execution_count": 33,
     "metadata": {},
     "output_type": "execute_result"
    }
   ],
   "source": [
    "dir(audi)"
   ]
  },
  {
   "cell_type": "markdown",
   "id": "45f78cd0",
   "metadata": {},
   "source": [
    "### Protected"
   ]
  },
  {
   "cell_type": "code",
   "execution_count": 34,
   "id": "2f3567bb",
   "metadata": {},
   "outputs": [],
   "source": [
    "# putting an _ (underscore) will make it protected\n",
    "# a protected variable or object can be accessed only by itself and it's subclasses\n",
    "class Car:\n",
    "    def __init__(self,window,door,enginetype):\n",
    "        self._windows=window #protected\n",
    "        self._doors=door #protected\n",
    "        self._enginetype=enginetype #protected"
   ]
  },
  {
   "cell_type": "code",
   "execution_count": 35,
   "id": "d3c60879",
   "metadata": {},
   "outputs": [
    {
     "data": {
      "text/plain": [
       "['__class__',\n",
       " '__delattr__',\n",
       " '__dict__',\n",
       " '__dir__',\n",
       " '__doc__',\n",
       " '__eq__',\n",
       " '__format__',\n",
       " '__ge__',\n",
       " '__getattribute__',\n",
       " '__gt__',\n",
       " '__hash__',\n",
       " '__init__',\n",
       " '__init_subclass__',\n",
       " '__le__',\n",
       " '__lt__',\n",
       " '__module__',\n",
       " '__ne__',\n",
       " '__new__',\n",
       " '__reduce__',\n",
       " '__reduce_ex__',\n",
       " '__repr__',\n",
       " '__setattr__',\n",
       " '__sizeof__',\n",
       " '__str__',\n",
       " '__subclasshook__',\n",
       " '__weakref__',\n",
       " '_doors',\n",
       " '_enginetype',\n",
       " '_windows']"
      ]
     },
     "execution_count": 35,
     "metadata": {},
     "output_type": "execute_result"
    }
   ],
   "source": [
    "audi=Car(4,4,\"Diesel\")\n",
    "dir(audi)"
   ]
  },
  {
   "cell_type": "code",
   "execution_count": 36,
   "id": "799eb817",
   "metadata": {},
   "outputs": [
    {
     "data": {
      "text/plain": [
       "4"
      ]
     },
     "execution_count": 36,
     "metadata": {},
     "output_type": "execute_result"
    }
   ],
   "source": [
    "audi._windows "
   ]
  },
  {
   "cell_type": "code",
   "execution_count": 37,
   "id": "3d8c3a73",
   "metadata": {},
   "outputs": [],
   "source": [
    "class Truck(Car):\n",
    "    def __init__(self,windows,doors,enginetype,horsepower):\n",
    "        super().__init__(windows,doors,enginetype)\n",
    "        self.horsepower=horsepower"
   ]
  },
  {
   "cell_type": "code",
   "execution_count": 38,
   "id": "4e2d4bcf",
   "metadata": {},
   "outputs": [],
   "source": [
    "truck=Truck(4,4,\"diesel\",4000)"
   ]
  },
  {
   "cell_type": "code",
   "execution_count": 39,
   "id": "0ab424c3",
   "metadata": {},
   "outputs": [
    {
     "data": {
      "text/plain": [
       "['__class__',\n",
       " '__delattr__',\n",
       " '__dict__',\n",
       " '__dir__',\n",
       " '__doc__',\n",
       " '__eq__',\n",
       " '__format__',\n",
       " '__ge__',\n",
       " '__getattribute__',\n",
       " '__gt__',\n",
       " '__hash__',\n",
       " '__init__',\n",
       " '__init_subclass__',\n",
       " '__le__',\n",
       " '__lt__',\n",
       " '__module__',\n",
       " '__ne__',\n",
       " '__new__',\n",
       " '__reduce__',\n",
       " '__reduce_ex__',\n",
       " '__repr__',\n",
       " '__setattr__',\n",
       " '__sizeof__',\n",
       " '__str__',\n",
       " '__subclasshook__',\n",
       " '__weakref__',\n",
       " '_doors',\n",
       " '_enginetype',\n",
       " '_windows',\n",
       " 'horsepower']"
      ]
     },
     "execution_count": 39,
     "metadata": {},
     "output_type": "execute_result"
    }
   ],
   "source": [
    "dir(truck)"
   ]
  },
  {
   "cell_type": "code",
   "execution_count": 40,
   "id": "c5349add",
   "metadata": {},
   "outputs": [],
   "source": [
    "truck._doors=5 # The overridden should only happen in a subclass"
   ]
  },
  {
   "cell_type": "code",
   "execution_count": 41,
   "id": "3674ebee",
   "metadata": {},
   "outputs": [
    {
     "data": {
      "text/plain": [
       "5"
      ]
     },
     "execution_count": 41,
     "metadata": {},
     "output_type": "execute_result"
    }
   ],
   "source": [
    "truck._doors"
   ]
  },
  {
   "cell_type": "markdown",
   "id": "82f779b4",
   "metadata": {},
   "source": [
    "### Private"
   ]
  },
  {
   "cell_type": "code",
   "execution_count": 42,
   "id": "eb4dd30e",
   "metadata": {},
   "outputs": [],
   "source": [
    "# putting an _ (underscore) will make it protected\n",
    "# a protected variable or object can be accessed only by itself\n",
    "class Car:\n",
    "    def __init__(self,window,door,enginetype):\n",
    "        self.__windows=window #protected\n",
    "        self.__doors=door #protected\n",
    "        self.__enginetype=enginetype #protected"
   ]
  },
  {
   "cell_type": "code",
   "execution_count": 43,
   "id": "e27b64d3",
   "metadata": {},
   "outputs": [],
   "source": [
    "audi=Car(4,4,\"Diesel\")"
   ]
  },
  {
   "cell_type": "code",
   "execution_count": 44,
   "id": "ef4fa391",
   "metadata": {},
   "outputs": [
    {
     "data": {
      "text/plain": [
       "['_Car__doors',\n",
       " '_Car__enginetype',\n",
       " '_Car__windows',\n",
       " '__class__',\n",
       " '__delattr__',\n",
       " '__dict__',\n",
       " '__dir__',\n",
       " '__doc__',\n",
       " '__eq__',\n",
       " '__format__',\n",
       " '__ge__',\n",
       " '__getattribute__',\n",
       " '__gt__',\n",
       " '__hash__',\n",
       " '__init__',\n",
       " '__init_subclass__',\n",
       " '__le__',\n",
       " '__lt__',\n",
       " '__module__',\n",
       " '__ne__',\n",
       " '__new__',\n",
       " '__reduce__',\n",
       " '__reduce_ex__',\n",
       " '__repr__',\n",
       " '__setattr__',\n",
       " '__sizeof__',\n",
       " '__str__',\n",
       " '__subclasshook__',\n",
       " '__weakref__']"
      ]
     },
     "execution_count": 44,
     "metadata": {},
     "output_type": "execute_result"
    }
   ],
   "source": [
    "dir(audi)"
   ]
  },
  {
   "cell_type": "code",
   "execution_count": null,
   "id": "1fef6c49",
   "metadata": {},
   "outputs": [],
   "source": []
  }
 ],
 "metadata": {
  "kernelspec": {
   "display_name": "Python 3 (ipykernel)",
   "language": "python",
   "name": "python3"
  },
  "language_info": {
   "codemirror_mode": {
    "name": "ipython",
    "version": 3
   },
   "file_extension": ".py",
   "mimetype": "text/x-python",
   "name": "python",
   "nbconvert_exporter": "python",
   "pygments_lexer": "ipython3",
   "version": "3.10.1"
  }
 },
 "nbformat": 4,
 "nbformat_minor": 5
}
