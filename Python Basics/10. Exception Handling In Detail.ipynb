{
 "cells": [
  {
   "cell_type": "markdown",
   "id": "2df484ae",
   "metadata": {},
   "source": [
    "# Python Exception Handling"
   ]
  },
  {
   "cell_type": "markdown",
   "id": "a4d918f8",
   "metadata": {},
   "source": [
    "## Error :\n",
    "- An error refers to a problem that occurs during the execution of a program that prevents it from running correctly. \n",
    "\n",
    "- Errors can arise due to various reasons such as syntax errors, logical errors, or runtime errors."
   ]
  },
  {
   "cell_type": "markdown",
   "id": "9e718811",
   "metadata": {},
   "source": [
    "## Exception:\n",
    "- An exception is a specific type of error that occurs during the execution of a program when something unexpected happens. \n",
    "- Exceptions are typically caused by conditions that are beyond the control of the programmer, such as invalid input, file not found, or division by zero. \n",
    "- When an exception occurs, Python raises an exception object to signal that something went wrong."
   ]
  },
  {
   "cell_type": "markdown",
   "id": "d4b6c1c5",
   "metadata": {},
   "source": [
    "## Exception Handling:\n",
    "- Exception handling is a programming construct that allows developers to gracefully handle exceptions when they occur. \n",
    "- Instead of allowing exceptions to crash the program, exception handling enables the program to detect and respond to exceptions in a controlled manner. \n",
    "- This typically involves using try-except blocks to catch and handle specific types of exceptions."
   ]
  },
  {
   "cell_type": "code",
   "execution_count": 7,
   "id": "d1ae98fd",
   "metadata": {},
   "outputs": [
    {
     "ename": "NameError",
     "evalue": "name 'b' is not defined",
     "output_type": "error",
     "traceback": [
      "\u001b[1;31m---------------------------------------------------------------------------\u001b[0m",
      "\u001b[1;31mNameError\u001b[0m                                 Traceback (most recent call last)",
      "Input \u001b[1;32mIn [7]\u001b[0m, in \u001b[0;36m<module>\u001b[1;34m\u001b[0m\n\u001b[1;32m----> 1\u001b[0m a\u001b[38;5;241m=\u001b[39m\u001b[43mb\u001b[49m\n",
      "\u001b[1;31mNameError\u001b[0m: name 'b' is not defined"
     ]
    }
   ],
   "source": [
    "a=b # error is shown"
   ]
  },
  {
   "cell_type": "code",
   "execution_count": 8,
   "id": "b17b0d17",
   "metadata": {},
   "outputs": [
    {
     "name": "stdout",
     "output_type": "stream",
     "text": [
      "Some problem may have occured\n"
     ]
    }
   ],
   "source": [
    "try:\n",
    "    # this is a place where exception can occur\n",
    "    a=b\n",
    "except:\n",
    "    print(\"Some problem may have occured\")"
   ]
  },
  {
   "cell_type": "code",
   "execution_count": 10,
   "id": "0c76dd59",
   "metadata": {},
   "outputs": [
    {
     "name": "stdout",
     "output_type": "stream",
     "text": [
      "name 'b' is not defined\n"
     ]
    }
   ],
   "source": [
    "try:\n",
    "    # this is a place where exception can occur\n",
    "    a=b\n",
    "except Exception as ex:\n",
    "    print(ex)# printing the original error message"
   ]
  },
  {
   "cell_type": "code",
   "execution_count": 12,
   "id": "5fbe6e1a",
   "metadata": {},
   "outputs": [
    {
     "name": "stdout",
     "output_type": "stream",
     "text": [
      "The user have not defined the variable\n"
     ]
    }
   ],
   "source": [
    "try:\n",
    "    # this is a place where exception can occur\n",
    "    a=b\n",
    "except NameError as ex1: # this is being called\n",
    "    print(\"The user have not defined the variable\")\n",
    "except Exception as ex:\n",
    "    print(ex)"
   ]
  },
  {
   "cell_type": "code",
   "execution_count": 13,
   "id": "433d26f4",
   "metadata": {},
   "outputs": [
    {
     "name": "stdout",
     "output_type": "stream",
     "text": [
      "unsupported operand type(s) for +: 'int' and 'str'\n"
     ]
    }
   ],
   "source": [
    "try:\n",
    "    # this is a place where exception can occur\n",
    "    a=1\n",
    "    b='a'\n",
    "    c=a+b\n",
    "except NameError as ex1:\n",
    "    print(\"The user have not defined the variable\")\n",
    "except Exception as ex: # this is being called\n",
    "    print(ex)"
   ]
  },
  {
   "cell_type": "code",
   "execution_count": 14,
   "id": "79caa1b3",
   "metadata": {},
   "outputs": [
    {
     "name": "stdout",
     "output_type": "stream",
     "text": [
      "Try to make the datatype similar\n"
     ]
    }
   ],
   "source": [
    "try:\n",
    "    # this is a place where exception can occur\n",
    "    a=1\n",
    "    b='a'\n",
    "    c=a+b\n",
    "except NameError:\n",
    "    print(\"The user have not defined the variable\")\n",
    "except TypeError:\n",
    "    print(\"Try to make the datatype similar\")\n",
    "except Exception as ex: \n",
    "    print(ex)"
   ]
  },
  {
   "cell_type": "code",
   "execution_count": 16,
   "id": "df938450",
   "metadata": {},
   "outputs": [
    {
     "name": "stdout",
     "output_type": "stream",
     "text": [
      "Enter the number 1 : 10\n",
      "Enter the number 2 : 0\n",
      "Please provide number greater than 0\n"
     ]
    }
   ],
   "source": [
    "try:\n",
    "    # this is a place where exception can occur\n",
    "    a=int(input(\"Enter the number 1 : \"))\n",
    "    b=int(input(\"Enter the number 2 : \"))\n",
    "    c=a/b\n",
    "except NameError:\n",
    "    print(\"The user have not defined the variable\")\n",
    "except ZeroDivisionError:\n",
    "    print(\"Please provide number greater than 0\")\n",
    "except TypeError:\n",
    "    print(\"Try to make the datatype similar\")\n",
    "except Exception as ex: \n",
    "    print(ex)"
   ]
  },
  {
   "cell_type": "markdown",
   "id": "888ed7d1",
   "metadata": {},
   "source": [
    "### Try Except Else"
   ]
  },
  {
   "cell_type": "code",
   "execution_count": 17,
   "id": "20e4a37b",
   "metadata": {},
   "outputs": [
    {
     "name": "stdout",
     "output_type": "stream",
     "text": [
      "Enter the number 1 : 10\n",
      "Enter the number 2 : 2\n",
      "5.0\n",
      "20\n",
      "12\n"
     ]
    }
   ],
   "source": [
    "try:\n",
    "    # this is a place where exception can occur\n",
    "    a=int(input(\"Enter the number 1 : \"))\n",
    "    b=int(input(\"Enter the number 2 : \"))\n",
    "    c=a/b\n",
    "    d=a*b\n",
    "    e=a+b\n",
    "except NameError:\n",
    "    print(\"The user have not defined the variable\")\n",
    "except ZeroDivisionError:\n",
    "    print(\"Please provide number greater than 0\")\n",
    "except TypeError:\n",
    "    print(\"Try to make the datatype similar\")\n",
    "except Exception as ex: \n",
    "    print(ex)\n",
    "else:\n",
    "    print(c)\n",
    "    print(d)\n",
    "    print(e)"
   ]
  },
  {
   "cell_type": "markdown",
   "id": "f0141c92",
   "metadata": {},
   "source": [
    "### Try Except Else Finally"
   ]
  },
  {
   "cell_type": "code",
   "execution_count": 18,
   "id": "b26a61dd",
   "metadata": {},
   "outputs": [
    {
     "name": "stdout",
     "output_type": "stream",
     "text": [
      "Enter the number 1 : 10\n",
      "Enter the number 2 : 0\n",
      "Please provide number greater than 0\n",
      "The execution is done\n"
     ]
    }
   ],
   "source": [
    "try:\n",
    "    # this is a place where exception can occur\n",
    "    a=int(input(\"Enter the number 1 : \"))\n",
    "    b=int(input(\"Enter the number 2 : \"))\n",
    "    c=a/b\n",
    "except NameError:\n",
    "    print(\"The user have not defined the variable\")\n",
    "except ZeroDivisionError:\n",
    "    print(\"Please provide number greater than 0\")\n",
    "except TypeError:\n",
    "    print(\"Try to make the datatype similar\")\n",
    "except Exception as ex:\n",
    "    print(ex)\n",
    "else:\n",
    "    print(c)\n",
    "finally:     # this will always be executed\n",
    "    print(\"The execution is done\")"
   ]
  },
  {
   "cell_type": "markdown",
   "id": "82946d37",
   "metadata": {},
   "source": [
    "# Custom Exception"
   ]
  },
  {
   "cell_type": "code",
   "execution_count": 19,
   "id": "ed03f8c1",
   "metadata": {},
   "outputs": [],
   "source": [
    "class Error(Exception):\n",
    "    pass\n",
    "\n",
    "class dobException(Error):\n",
    "    pass\n",
    "\n"
   ]
  },
  {
   "cell_type": "code",
   "execution_count": 21,
   "id": "3b22bf01",
   "metadata": {},
   "outputs": [
    {
     "name": "stdout",
     "output_type": "stream",
     "text": [
      "Please enter the year of birth : 1990\n",
      "The age is not within the range. You cannot apply for the exam.\n"
     ]
    }
   ],
   "source": [
    "year=int(input(\"Please enter the year of birth : \"))\n",
    "age=2024-year\n",
    "try:\n",
    "    if age<=21 & age>35:\n",
    "        print(\"The age is valid. You can apply for the exams\")\n",
    "    else:\n",
    "        raise dobException\n",
    "except dobException:\n",
    "    print(\"The age is not within the range. You cannot apply for the exam.\")"
   ]
  },
  {
   "cell_type": "code",
   "execution_count": null,
   "id": "6a19548e",
   "metadata": {},
   "outputs": [],
   "source": []
  }
 ],
 "metadata": {
  "kernelspec": {
   "display_name": "Python 3 (ipykernel)",
   "language": "python",
   "name": "python3"
  },
  "language_info": {
   "codemirror_mode": {
    "name": "ipython",
    "version": 3
   },
   "file_extension": ".py",
   "mimetype": "text/x-python",
   "name": "python",
   "nbconvert_exporter": "python",
   "pygments_lexer": "ipython3",
   "version": "3.10.1"
  }
 },
 "nbformat": 4,
 "nbformat_minor": 5
}
