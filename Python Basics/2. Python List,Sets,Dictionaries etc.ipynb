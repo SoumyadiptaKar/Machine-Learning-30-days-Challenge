{
 "cells": [
  {
   "cell_type": "markdown",
   "id": "698443fc",
   "metadata": {},
   "source": [
    "# Python Data Structures and Boolean\n",
    "1. Boolean datatype\n",
    "2. Boolean and Logical Operators\n",
    "3. Lists\n",
    "4. Comparison operators\n",
    "5. Dictionaries\n",
    "6. Tuples\n",
    "7. Sets"
   ]
  },
  {
   "cell_type": "markdown",
   "id": "b9667949",
   "metadata": {},
   "source": [
    "### Boolean Datatype"
   ]
  },
  {
   "cell_type": "markdown",
   "id": "394428af",
   "metadata": {},
   "source": [
    "In Python, a Boolean is a data type that represents either True or False. Booleans are often used in programming for making decisions or implementing conditional logic. \n",
    "\n",
    "In numeric contexts (for example, when used as the argument to an arithmetic operator), they behave like the integers 0 and 1, respectively.\n",
    "\n",
    "The built-in function bool() can be used to cast any value to a Boolean, if the value can be interpreted as a truth value"
   ]
  },
  {
   "cell_type": "code",
   "execution_count": 35,
   "id": "55bdb139",
   "metadata": {},
   "outputs": [
    {
     "data": {
      "text/plain": [
       "True"
      ]
     },
     "execution_count": 35,
     "metadata": {},
     "output_type": "execute_result"
    }
   ],
   "source": [
    "True"
   ]
  },
  {
   "cell_type": "code",
   "execution_count": 36,
   "id": "14fb9116",
   "metadata": {},
   "outputs": [
    {
     "data": {
      "text/plain": [
       "False"
      ]
     },
     "execution_count": 36,
     "metadata": {},
     "output_type": "execute_result"
    }
   ],
   "source": [
    "False"
   ]
  },
  {
   "cell_type": "code",
   "execution_count": 37,
   "id": "a40996b8",
   "metadata": {},
   "outputs": [
    {
     "data": {
      "text/plain": [
       "bool"
      ]
     },
     "execution_count": 37,
     "metadata": {},
     "output_type": "execute_result"
    }
   ],
   "source": [
    "type(True)"
   ]
  },
  {
   "cell_type": "code",
   "execution_count": 38,
   "id": "f9ac0794",
   "metadata": {},
   "outputs": [
    {
     "data": {
      "text/plain": [
       "bool"
      ]
     },
     "execution_count": 38,
     "metadata": {},
     "output_type": "execute_result"
    }
   ],
   "source": [
    "type(False)"
   ]
  },
  {
   "cell_type": "code",
   "execution_count": 39,
   "id": "58d30b19",
   "metadata": {},
   "outputs": [],
   "source": [
    "my_str='Soumya123'"
   ]
  },
  {
   "cell_type": "code",
   "execution_count": 40,
   "id": "4b008ebd",
   "metadata": {},
   "outputs": [
    {
     "data": {
      "text/plain": [
       "True"
      ]
     },
     "execution_count": 40,
     "metadata": {},
     "output_type": "execute_result"
    }
   ],
   "source": [
    "my_str.istitle()"
   ]
  },
  {
   "cell_type": "code",
   "execution_count": 41,
   "id": "12bf0616",
   "metadata": {},
   "outputs": [
    {
     "name": "stdout",
     "output_type": "stream",
     "text": [
      "True\n",
      "False\n",
      "False\n",
      "True\n",
      "False\n",
      "False\n",
      "False\n",
      "True\n",
      "True\n"
     ]
    }
   ],
   "source": [
    "print(my_str.isalnum()) #check if all char are numbers\n",
    "print(my_str.isalpha()) #check if all char in the string are alphabetic\n",
    "print(my_str.isdigit()) #test if string contains digits\n",
    "print(my_str.istitle()) #test if string contains title words\n",
    "print(my_str.isupper()) #test if string contains upper case\n",
    "print(my_str.islower()) #test if string contains lower case\n",
    "print(my_str.isspace()) #test if string contains spaces\n",
    "print(my_str.endswith('3')) #test if string endswith '3'\n",
    "print(my_str.startswith('S')) #test if string startswith S"
   ]
  },
  {
   "cell_type": "markdown",
   "id": "52c6a237",
   "metadata": {},
   "source": [
    "### Boolean and Logical Operators"
   ]
  },
  {
   "cell_type": "code",
   "execution_count": 42,
   "id": "2668459f",
   "metadata": {},
   "outputs": [
    {
     "data": {
      "text/plain": [
       "True"
      ]
     },
     "execution_count": 42,
     "metadata": {},
     "output_type": "execute_result"
    }
   ],
   "source": [
    "True and True"
   ]
  },
  {
   "cell_type": "code",
   "execution_count": 43,
   "id": "aa64b235",
   "metadata": {},
   "outputs": [
    {
     "data": {
      "text/plain": [
       "False"
      ]
     },
     "execution_count": 43,
     "metadata": {},
     "output_type": "execute_result"
    }
   ],
   "source": [
    "True and False"
   ]
  },
  {
   "cell_type": "code",
   "execution_count": 44,
   "id": "57daa650",
   "metadata": {},
   "outputs": [
    {
     "data": {
      "text/plain": [
       "True"
      ]
     },
     "execution_count": 44,
     "metadata": {},
     "output_type": "execute_result"
    }
   ],
   "source": [
    "True or True"
   ]
  },
  {
   "cell_type": "code",
   "execution_count": 45,
   "id": "45fb17c8",
   "metadata": {},
   "outputs": [
    {
     "data": {
      "text/plain": [
       "True"
      ]
     },
     "execution_count": 45,
     "metadata": {},
     "output_type": "execute_result"
    }
   ],
   "source": [
    "True or False"
   ]
  },
  {
   "cell_type": "code",
   "execution_count": 46,
   "id": "06e83499",
   "metadata": {},
   "outputs": [
    {
     "data": {
      "text/plain": [
       "True"
      ]
     },
     "execution_count": 46,
     "metadata": {},
     "output_type": "execute_result"
    }
   ],
   "source": [
    "str_1 = 'Apple'\n",
    "str_2 = 'Ball'\n",
    "\n",
    "str_1.isalpha() or str_2.isdigit() # True or False "
   ]
  },
  {
   "cell_type": "markdown",
   "id": "fb262d42",
   "metadata": {},
   "source": [
    "### Lists"
   ]
  },
  {
   "cell_type": "markdown",
   "id": "8cfa496e",
   "metadata": {},
   "source": [
    "In Python, a list is a built-in data type used to store a collection of items. \n",
    "\n",
    "Lists are versatile and can hold elements of different data types, including integers, floats, strings, and even other lists. \n",
    "\n",
    "Lists are mutable, meaning you can modify their contents by adding, removing, or modifying elements.\n",
    "\n",
    "Just as strings are defined as characters between quotes, lists are defined by having values between square brackets [ ]"
   ]
  },
  {
   "cell_type": "code",
   "execution_count": 47,
   "id": "67bf0fa5",
   "metadata": {},
   "outputs": [
    {
     "data": {
      "text/plain": [
       "list"
      ]
     },
     "execution_count": 47,
     "metadata": {},
     "output_type": "execute_result"
    }
   ],
   "source": [
    "type([])"
   ]
  },
  {
   "cell_type": "code",
   "execution_count": 48,
   "id": "755fdec8",
   "metadata": {},
   "outputs": [],
   "source": [
    "lst=[]"
   ]
  },
  {
   "cell_type": "code",
   "execution_count": 49,
   "id": "5998ff11",
   "metadata": {},
   "outputs": [
    {
     "data": {
      "text/plain": [
       "list"
      ]
     },
     "execution_count": 49,
     "metadata": {},
     "output_type": "execute_result"
    }
   ],
   "source": [
    "type(lst)"
   ]
  },
  {
   "cell_type": "code",
   "execution_count": 50,
   "id": "18e71528",
   "metadata": {},
   "outputs": [],
   "source": [
    "lst=['Mathematics','Science',100,200,300]"
   ]
  },
  {
   "cell_type": "code",
   "execution_count": 51,
   "id": "dd2b7090",
   "metadata": {},
   "outputs": [
    {
     "data": {
      "text/plain": [
       "5"
      ]
     },
     "execution_count": 51,
     "metadata": {},
     "output_type": "execute_result"
    }
   ],
   "source": [
    "len(lst)"
   ]
  },
  {
   "cell_type": "markdown",
   "id": "5e4f3cce",
   "metadata": {},
   "source": [
    "### Append"
   ]
  },
  {
   "cell_type": "code",
   "execution_count": 53,
   "id": "42b5c3ae",
   "metadata": {},
   "outputs": [],
   "source": [
    "# apend is used to add elements in the end of the list\n",
    "lst.append(\"400\")"
   ]
  },
  {
   "cell_type": "code",
   "execution_count": 54,
   "id": "113e5ee5",
   "metadata": {},
   "outputs": [
    {
     "data": {
      "text/plain": [
       "['Mathematics', 'Science', 100, 200, 300, '400']"
      ]
     },
     "execution_count": 54,
     "metadata": {},
     "output_type": "execute_result"
    }
   ],
   "source": [
    "lst"
   ]
  },
  {
   "cell_type": "code",
   "execution_count": 55,
   "id": "3d6ace82",
   "metadata": {},
   "outputs": [],
   "source": [
    "lst.append(['Aman','Ayan'])"
   ]
  },
  {
   "cell_type": "code",
   "execution_count": 56,
   "id": "9f61eb77",
   "metadata": {},
   "outputs": [
    {
     "data": {
      "text/plain": [
       "['Mathematics', 'Science', 100, 200, 300, '400', ['Aman', 'Ayan']]"
      ]
     },
     "execution_count": 56,
     "metadata": {},
     "output_type": "execute_result"
    }
   ],
   "source": [
    "lst"
   ]
  },
  {
   "cell_type": "markdown",
   "id": "7d721988",
   "metadata": {},
   "source": [
    "### Insert"
   ]
  },
  {
   "cell_type": "code",
   "execution_count": 58,
   "id": "622370eb",
   "metadata": {},
   "outputs": [],
   "source": [
    "# insert is used to insert elements at specific location \n",
    "lst.insert(2,'Physics')"
   ]
  },
  {
   "cell_type": "code",
   "execution_count": 59,
   "id": "23550750",
   "metadata": {},
   "outputs": [
    {
     "data": {
      "text/plain": [
       "['Mathematics', 'Science', 'Physics', 100, 200, 300, '400', ['Aman', 'Ayan']]"
      ]
     },
     "execution_count": 59,
     "metadata": {},
     "output_type": "execute_result"
    }
   ],
   "source": [
    "lst"
   ]
  },
  {
   "cell_type": "markdown",
   "id": "a48c80ce",
   "metadata": {},
   "source": [
    "### Extend"
   ]
  },
  {
   "cell_type": "code",
   "execution_count": 62,
   "id": "afdc8b58",
   "metadata": {},
   "outputs": [],
   "source": [
    "# it's similar to append but the difference is that\n",
    "# append adds one at a time, while \n",
    "# extend can add more than one at a time.\n",
    "\n",
    "lst = [1,2,3,4]"
   ]
  },
  {
   "cell_type": "code",
   "execution_count": 63,
   "id": "e0501b08",
   "metadata": {},
   "outputs": [],
   "source": [
    "lst.extend([5,6])"
   ]
  },
  {
   "cell_type": "code",
   "execution_count": 64,
   "id": "0a6c97bb",
   "metadata": {},
   "outputs": [
    {
     "data": {
      "text/plain": [
       "[1, 2, 3, 4, 5, 6]"
      ]
     },
     "execution_count": 64,
     "metadata": {},
     "output_type": "execute_result"
    }
   ],
   "source": [
    "lst"
   ]
  },
  {
   "cell_type": "markdown",
   "id": "41aab031",
   "metadata": {},
   "source": [
    "### Operations on list"
   ]
  },
  {
   "cell_type": "code",
   "execution_count": 66,
   "id": "825ee68e",
   "metadata": {},
   "outputs": [],
   "source": [
    "lst=[1,2,3,4,5]"
   ]
  },
  {
   "cell_type": "code",
   "execution_count": 67,
   "id": "a7c40d6f",
   "metadata": {},
   "outputs": [
    {
     "data": {
      "text/plain": [
       "15"
      ]
     },
     "execution_count": 67,
     "metadata": {},
     "output_type": "execute_result"
    }
   ],
   "source": [
    "sum(lst)"
   ]
  },
  {
   "cell_type": "code",
   "execution_count": 68,
   "id": "fe522d49",
   "metadata": {},
   "outputs": [],
   "source": [
    "lst=['Apples','and']"
   ]
  },
  {
   "cell_type": "code",
   "execution_count": 70,
   "id": "9bb7e9e4",
   "metadata": {},
   "outputs": [
    {
     "data": {
      "text/plain": [
       "['Apples', 'and', 'Apples', 'and', 'Apples', 'and']"
      ]
     },
     "execution_count": 70,
     "metadata": {},
     "output_type": "execute_result"
    }
   ],
   "source": [
    "lst*3"
   ]
  },
  {
   "cell_type": "markdown",
   "id": "269e5168",
   "metadata": {},
   "source": [
    "### Pop() method"
   ]
  },
  {
   "cell_type": "code",
   "execution_count": 72,
   "id": "1e71e5fa",
   "metadata": {},
   "outputs": [
    {
     "data": {
      "text/plain": [
       "'and'"
      ]
     },
     "execution_count": 72,
     "metadata": {},
     "output_type": "execute_result"
    }
   ],
   "source": [
    "# Delets andprint the last element just like how pop() works in stack\n",
    "lst.pop()"
   ]
  },
  {
   "cell_type": "code",
   "execution_count": 73,
   "id": "403d22f5",
   "metadata": {},
   "outputs": [
    {
     "data": {
      "text/plain": [
       "['Apples']"
      ]
     },
     "execution_count": 73,
     "metadata": {},
     "output_type": "execute_result"
    }
   ],
   "source": [
    "lst"
   ]
  },
  {
   "cell_type": "code",
   "execution_count": 74,
   "id": "e32c0771",
   "metadata": {},
   "outputs": [
    {
     "data": {
      "text/plain": [
       "'Apples'"
      ]
     },
     "execution_count": 74,
     "metadata": {},
     "output_type": "execute_result"
    }
   ],
   "source": [
    "lst.pop()"
   ]
  },
  {
   "cell_type": "code",
   "execution_count": 75,
   "id": "416a9eba",
   "metadata": {},
   "outputs": [
    {
     "data": {
      "text/plain": [
       "[]"
      ]
     },
     "execution_count": 75,
     "metadata": {},
     "output_type": "execute_result"
    }
   ],
   "source": [
    "lst"
   ]
  },
  {
   "cell_type": "markdown",
   "id": "50898a80",
   "metadata": {},
   "source": [
    "### count(): Claculates total occurance of given element fo list"
   ]
  },
  {
   "cell_type": "code",
   "execution_count": 76,
   "id": "86f84eca",
   "metadata": {},
   "outputs": [
    {
     "data": {
      "text/plain": [
       "2"
      ]
     },
     "execution_count": 76,
     "metadata": {},
     "output_type": "execute_result"
    }
   ],
   "source": [
    "lst=[1,1,2,3,5]\n",
    "lst.count(1)"
   ]
  },
  {
   "cell_type": "code",
   "execution_count": 77,
   "id": "d52dd4d8",
   "metadata": {},
   "outputs": [
    {
     "data": {
      "text/plain": [
       "5"
      ]
     },
     "execution_count": 77,
     "metadata": {},
     "output_type": "execute_result"
    }
   ],
   "source": [
    "len(lst)"
   ]
  },
  {
   "cell_type": "code",
   "execution_count": 78,
   "id": "77d60702",
   "metadata": {},
   "outputs": [
    {
     "data": {
      "text/plain": [
       "1"
      ]
     },
     "execution_count": 78,
     "metadata": {},
     "output_type": "execute_result"
    }
   ],
   "source": [
    "# index() returns the first occurance. Start and End index are not necessary parameters \n",
    "lst.index(1,1,4)"
   ]
  },
  {
   "cell_type": "code",
   "execution_count": 80,
   "id": "abd9baf6",
   "metadata": {},
   "outputs": [
    {
     "data": {
      "text/plain": [
       "1"
      ]
     },
     "execution_count": 80,
     "metadata": {},
     "output_type": "execute_result"
    }
   ],
   "source": [
    "min(lst)"
   ]
  },
  {
   "cell_type": "code",
   "execution_count": 81,
   "id": "3c8d7018",
   "metadata": {},
   "outputs": [
    {
     "data": {
      "text/plain": [
       "5"
      ]
     },
     "execution_count": 81,
     "metadata": {},
     "output_type": "execute_result"
    }
   ],
   "source": [
    "max(lst)"
   ]
  },
  {
   "cell_type": "markdown",
   "id": "9afbc9e1",
   "metadata": {},
   "source": [
    "### Sets"
   ]
  },
  {
   "cell_type": "markdown",
   "id": "1a8f4762",
   "metadata": {},
   "source": [
    "In Python, a set is a built-in data type used to store an unordered collection of unique elements. \n",
    "\n",
    "Sets are defined by enclosing elements within curly braces {}, and elements are separated by commas. \n",
    "\n",
    "Sets are similar to lists or tuples, but they do not allow duplicate elements."
   ]
  },
  {
   "cell_type": "code",
   "execution_count": 82,
   "id": "4536cf12",
   "metadata": {},
   "outputs": [],
   "source": [
    "set_1 = set()"
   ]
  },
  {
   "cell_type": "code",
   "execution_count": 83,
   "id": "87b7caa3",
   "metadata": {},
   "outputs": [
    {
     "data": {
      "text/plain": [
       "set"
      ]
     },
     "execution_count": 83,
     "metadata": {},
     "output_type": "execute_result"
    }
   ],
   "source": [
    "type(set_1)"
   ]
  },
  {
   "cell_type": "code",
   "execution_count": 84,
   "id": "dcbac662",
   "metadata": {},
   "outputs": [
    {
     "data": {
      "text/plain": [
       "set()"
      ]
     },
     "execution_count": 84,
     "metadata": {},
     "output_type": "execute_result"
    }
   ],
   "source": [
    "set_1"
   ]
  },
  {
   "cell_type": "code",
   "execution_count": 109,
   "id": "7e4e510d",
   "metadata": {},
   "outputs": [],
   "source": [
    "set_1={1,2,3,4}"
   ]
  },
  {
   "cell_type": "code",
   "execution_count": 110,
   "id": "d514c660",
   "metadata": {},
   "outputs": [
    {
     "data": {
      "text/plain": [
       "{1, 2, 3, 4}"
      ]
     },
     "execution_count": 110,
     "metadata": {},
     "output_type": "execute_result"
    }
   ],
   "source": [
    "set_1"
   ]
  },
  {
   "cell_type": "code",
   "execution_count": 111,
   "id": "391561d7",
   "metadata": {},
   "outputs": [
    {
     "name": "stdout",
     "output_type": "stream",
     "text": [
      "{1, 2, 3, 4, 5}\n"
     ]
    }
   ],
   "source": [
    "set_1.add(5)\n",
    "print(set_1)"
   ]
  },
  {
   "cell_type": "code",
   "execution_count": 112,
   "id": "39270e6f",
   "metadata": {},
   "outputs": [
    {
     "name": "stdout",
     "output_type": "stream",
     "text": [
      "{1, 2, 3, 4, 5, 'Apple'}\n"
     ]
    }
   ],
   "source": [
    "set_1.add(\"Apple\")\n",
    "print(set_1)"
   ]
  },
  {
   "cell_type": "code",
   "execution_count": 113,
   "id": "6ae5c111",
   "metadata": {},
   "outputs": [
    {
     "name": "stdout",
     "output_type": "stream",
     "text": [
      "{1, 'Apple'}\n"
     ]
    }
   ],
   "source": [
    "set_2={1,\"Apple\"}\n",
    "print(set_2)"
   ]
  },
  {
   "cell_type": "code",
   "execution_count": 114,
   "id": "fe096bc0",
   "metadata": {},
   "outputs": [],
   "source": [
    "# intersection operation. Store the intersection of set_1 and set_2 in set_1\n",
    "set_1.intersection_update(set_2)"
   ]
  },
  {
   "cell_type": "code",
   "execution_count": 115,
   "id": "bb848950",
   "metadata": {},
   "outputs": [
    {
     "data": {
      "text/plain": [
       "{1, 'Apple'}"
      ]
     },
     "execution_count": 115,
     "metadata": {},
     "output_type": "execute_result"
    }
   ],
   "source": [
    "set_1"
   ]
  },
  {
   "cell_type": "code",
   "execution_count": 116,
   "id": "047d6b3a",
   "metadata": {},
   "outputs": [
    {
     "name": "stdout",
     "output_type": "stream",
     "text": [
      "{1, 'Banana', 'Apple'}\n"
     ]
    }
   ],
   "source": [
    "set_2.add(\"Banana\")\n",
    "print(set_2)"
   ]
  },
  {
   "cell_type": "code",
   "execution_count": 117,
   "id": "d9adc59b",
   "metadata": {},
   "outputs": [],
   "source": [
    "# difference between the sets. Basically set_2=set_2-set_1 mathematically\n",
    "set_2.difference_update(set_1)"
   ]
  },
  {
   "cell_type": "code",
   "execution_count": 119,
   "id": "761aea6c",
   "metadata": {},
   "outputs": [
    {
     "data": {
      "text/plain": [
       "{'Banana'}"
      ]
     },
     "execution_count": 119,
     "metadata": {},
     "output_type": "execute_result"
    }
   ],
   "source": [
    "set_2"
   ]
  },
  {
   "cell_type": "markdown",
   "id": "cc30cd0f",
   "metadata": {},
   "source": [
    "### Dictionaries"
   ]
  },
  {
   "cell_type": "markdown",
   "id": "8ce3ff94",
   "metadata": {},
   "source": [
    "In Python, a dictionary is a built-in data type that represents an unordered collection of key-value pairs. \n",
    "\n",
    "Dictionaries are also known as associative arrays or hash maps in other programming languages. \n",
    "\n",
    "Each key in a dictionary must be unique, and it maps to a specific value. Dictionaries are created using curly braces '{}', and key-value pairs are separated by colons ':'."
   ]
  },
  {
   "cell_type": "code",
   "execution_count": 123,
   "id": "b3e1eacc",
   "metadata": {},
   "outputs": [],
   "source": [
    "dic = {}"
   ]
  },
  {
   "cell_type": "code",
   "execution_count": 124,
   "id": "25b2a25d",
   "metadata": {},
   "outputs": [
    {
     "data": {
      "text/plain": [
       "dict"
      ]
     },
     "execution_count": 124,
     "metadata": {},
     "output_type": "execute_result"
    }
   ],
   "source": [
    "type(dic)"
   ]
  },
  {
   "cell_type": "code",
   "execution_count": 127,
   "id": "f9f83839",
   "metadata": {},
   "outputs": [],
   "source": [
    "dict_1 = {\"Fruit1\":\"Apple\", \"Fruit2\":\"Banana\",\"Fruit3\":\"Oranges\"}"
   ]
  },
  {
   "cell_type": "code",
   "execution_count": 128,
   "id": "b612bb5a",
   "metadata": {},
   "outputs": [
    {
     "data": {
      "text/plain": [
       "dict"
      ]
     },
     "execution_count": 128,
     "metadata": {},
     "output_type": "execute_result"
    }
   ],
   "source": [
    "type(dict_1)"
   ]
  },
  {
   "cell_type": "code",
   "execution_count": 130,
   "id": "7a94ea97",
   "metadata": {},
   "outputs": [
    {
     "name": "stdout",
     "output_type": "stream",
     "text": [
      "{'Fruit1': 'Apple', 'Fruit2': 'Banana', 'Fruit3': 'Oranges'}\n"
     ]
    }
   ],
   "source": [
    "print(dict_1)"
   ]
  },
  {
   "cell_type": "code",
   "execution_count": 133,
   "id": "10694ad6",
   "metadata": {},
   "outputs": [
    {
     "name": "stdout",
     "output_type": "stream",
     "text": [
      "Fruit1\n",
      "Fruit2\n",
      "Fruit3\n"
     ]
    }
   ],
   "source": [
    "# here i reffers to keys\n",
    "for i in dict_1:\n",
    "    print(i)"
   ]
  },
  {
   "cell_type": "code",
   "execution_count": 134,
   "id": "7cea16b8",
   "metadata": {},
   "outputs": [
    {
     "name": "stdout",
     "output_type": "stream",
     "text": [
      "Apple\n",
      "Banana\n",
      "Oranges\n"
     ]
    }
   ],
   "source": [
    "# here i reffers to values\n",
    "for i in dict_1.values():\n",
    "    print(i)"
   ]
  },
  {
   "cell_type": "code",
   "execution_count": 135,
   "id": "2d5fe3bf",
   "metadata": {},
   "outputs": [
    {
     "name": "stdout",
     "output_type": "stream",
     "text": [
      "('Fruit1', 'Apple')\n",
      "('Fruit2', 'Banana')\n",
      "('Fruit3', 'Oranges')\n"
     ]
    }
   ],
   "source": [
    "# to print both key:value pair\n",
    "for i in dict_1.items():\n",
    "    print(i)"
   ]
  },
  {
   "cell_type": "code",
   "execution_count": 136,
   "id": "91349666",
   "metadata": {},
   "outputs": [
    {
     "data": {
      "text/plain": [
       "{'Fruit1': 'Apple',\n",
       " 'Fruit2': 'Banana',\n",
       " 'Fruit3': 'Oranges',\n",
       " 'Fruit4': 'Grapes'}"
      ]
     },
     "execution_count": 136,
     "metadata": {},
     "output_type": "execute_result"
    }
   ],
   "source": [
    "# to add item in dictionary\n",
    "dict_1[\"Fruit4\"]=\"Grapes\"\n",
    "dict_1"
   ]
  },
  {
   "cell_type": "markdown",
   "id": "a51cafda",
   "metadata": {},
   "source": [
    "### Nested Dictionary"
   ]
  },
  {
   "cell_type": "code",
   "execution_count": 137,
   "id": "9730660b",
   "metadata": {},
   "outputs": [],
   "source": [
    "# fruits and calories per 100 gm\n",
    "Fruit1={\"Apple\":52}\n",
    "Fruit2={\"Banana\":89}\n",
    "Fruit3={\"Oranges\":43}\n",
    "Fruit4={\"Grapes\":69}\n",
    "\n",
    "Fruit_type = {\"type1\":Fruit1,\"type2\":Fruit2,\"type3\":Fruit3,\"type4\":Fruit4}"
   ]
  },
  {
   "cell_type": "code",
   "execution_count": 138,
   "id": "9425ee33",
   "metadata": {},
   "outputs": [
    {
     "data": {
      "text/plain": [
       "{'type1': {'Apple': 52},\n",
       " 'type2': {'Banana': 89},\n",
       " 'type3': {'Oranges': 43},\n",
       " 'type4': {'Grapes': 69}}"
      ]
     },
     "execution_count": 138,
     "metadata": {},
     "output_type": "execute_result"
    }
   ],
   "source": [
    "Fruit_type"
   ]
  },
  {
   "cell_type": "code",
   "execution_count": 141,
   "id": "b4a07153",
   "metadata": {},
   "outputs": [
    {
     "name": "stdout",
     "output_type": "stream",
     "text": [
      "{'Apple': 52}\n"
     ]
    }
   ],
   "source": [
    "print(Fruit_type['type1'])"
   ]
  },
  {
   "cell_type": "code",
   "execution_count": 142,
   "id": "93046427",
   "metadata": {},
   "outputs": [
    {
     "name": "stdout",
     "output_type": "stream",
     "text": [
      "52\n"
     ]
    }
   ],
   "source": [
    "print(Fruit_type['type1']['Apple'])"
   ]
  },
  {
   "cell_type": "markdown",
   "id": "075fa40d",
   "metadata": {},
   "source": [
    "### Tuples"
   ]
  },
  {
   "cell_type": "markdown",
   "id": "d95d9a8b",
   "metadata": {},
   "source": [
    "In Python, a tuple is a built-in data type that represents an ordered, immutable collection of elements. \n",
    "\n",
    "Tuples are similar to lists, but the key difference is that once a tuple is created, you cannot modify its contents (add, remove, or change elements). \n",
    "\n",
    "Tuples are defined using parentheses '()'."
   ]
  },
  {
   "cell_type": "code",
   "execution_count": 143,
   "id": "4b571197",
   "metadata": {},
   "outputs": [],
   "source": [
    "my_tuple=tuple()"
   ]
  },
  {
   "cell_type": "code",
   "execution_count": 144,
   "id": "deba52a9",
   "metadata": {},
   "outputs": [
    {
     "data": {
      "text/plain": [
       "tuple"
      ]
     },
     "execution_count": 144,
     "metadata": {},
     "output_type": "execute_result"
    }
   ],
   "source": [
    "type(my_tuple)"
   ]
  },
  {
   "cell_type": "code",
   "execution_count": 145,
   "id": "e225bd84",
   "metadata": {},
   "outputs": [],
   "source": [
    "my_tuple=(\"Apple\",\"Banana\",\"Orange\")"
   ]
  },
  {
   "cell_type": "code",
   "execution_count": 146,
   "id": "b06b0abc",
   "metadata": {},
   "outputs": [
    {
     "data": {
      "text/plain": [
       "('Apple', 'Banana', 'Orange')"
      ]
     },
     "execution_count": 146,
     "metadata": {},
     "output_type": "execute_result"
    }
   ],
   "source": [
    "my_tuple"
   ]
  },
  {
   "cell_type": "code",
   "execution_count": 148,
   "id": "25159bbe",
   "metadata": {},
   "outputs": [
    {
     "data": {
      "text/plain": [
       "1"
      ]
     },
     "execution_count": 148,
     "metadata": {},
     "output_type": "execute_result"
    }
   ],
   "source": [
    "my_tuple.count(\"Apple\")"
   ]
  },
  {
   "cell_type": "code",
   "execution_count": null,
   "id": "31de0c08",
   "metadata": {},
   "outputs": [],
   "source": []
  }
 ],
 "metadata": {
  "kernelspec": {
   "display_name": "Python 3 (ipykernel)",
   "language": "python",
   "name": "python3"
  },
  "language_info": {
   "codemirror_mode": {
    "name": "ipython",
    "version": 3
   },
   "file_extension": ".py",
   "mimetype": "text/x-python",
   "name": "python",
   "nbconvert_exporter": "python",
   "pygments_lexer": "ipython3",
   "version": "3.10.1"
  }
 },
 "nbformat": 4,
 "nbformat_minor": 5
}
